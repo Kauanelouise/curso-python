{
  "cells": [
    {
      "cell_type": "markdown",
      "metadata": {
        "id": "view-in-github",
        "colab_type": "text"
      },
      "source": [
        "<a href=\"https://colab.research.google.com/github/Kauanelouise/curso-python/blob/main/notebooks/caderno_2_tipos_basicos_de_dados.ipynb\" target=\"_parent\"><img src=\"https://colab.research.google.com/assets/colab-badge.svg\" alt=\"Open In Colab\"/></a>"
      ]
    },
    {
      "cell_type": "markdown",
      "metadata": {
        "id": "c2aLOmmEZQuA"
      },
      "source": [
        "<img src=\"https://github.com/Kauanelouise/curso-python/blob/main/images/variaveis.png?raw=1\">"
      ]
    },
    {
      "cell_type": "markdown",
      "metadata": {
        "id": "UitiiyNBZQuE"
      },
      "source": [
        "## Variáveis"
      ]
    },
    {
      "cell_type": "code",
      "execution_count": null,
      "metadata": {
        "id": "3SLkwEtoZQuE"
      },
      "outputs": [],
      "source": [
        "nome = 'kauane'\n",
        "idade = '18'\n",
        "\n",
        "cidade = 'Salvador'"
      ]
    },
    {
      "cell_type": "code",
      "execution_count": null,
      "metadata": {
        "id": "Jx4efGeeZQuF",
        "outputId": "b3882a74-54e3-4942-ca0e-90cd2001f1ef",
        "colab": {
          "base_uri": "https://localhost:8080/",
          "height": 36
        }
      },
      "outputs": [
        {
          "output_type": "execute_result",
          "data": {
            "text/plain": [
              "'Olá! meu nome kauane, tenho 18 anos e moro em Salvador'"
            ],
            "application/vnd.google.colaboratory.intrinsic+json": {
              "type": "string"
            }
          },
          "metadata": {},
          "execution_count": 2
        }
      ],
      "source": [
        "'Olá! meu nome ' + nome + ', tenho ' + idade + ' anos e moro em ' + cidade"
      ]
    },
    {
      "cell_type": "markdown",
      "metadata": {
        "id": "cW2iRijAZQuG"
      },
      "source": [
        "## Operações\n",
        "\n",
        "### Operações Núméricas"
      ]
    },
    {
      "cell_type": "code",
      "execution_count": null,
      "metadata": {
        "id": "EHsa19uxZQuG",
        "outputId": "dcccd1d3-bff9-46d0-ad24-2ddc9a2336f4"
      },
      "outputs": [
        {
          "data": {
            "text/plain": [
              "4"
            ]
          },
          "execution_count": 3,
          "metadata": {},
          "output_type": "execute_result"
        }
      ],
      "source": [
        "2 + 2"
      ]
    },
    {
      "cell_type": "code",
      "execution_count": null,
      "metadata": {
        "id": "o6qaSs1VZQuH",
        "outputId": "fea08aad-6dce-44e3-eee5-69b8aa17f4fa"
      },
      "outputs": [
        {
          "data": {
            "text/plain": [
              "6"
            ]
          },
          "execution_count": 4,
          "metadata": {},
          "output_type": "execute_result"
        }
      ],
      "source": [
        "2 * 3"
      ]
    },
    {
      "cell_type": "code",
      "execution_count": null,
      "metadata": {
        "id": "RN3EXbgyZQuH",
        "outputId": "0ee7597f-776c-4e33-b2ad-373238fb6c90"
      },
      "outputs": [
        {
          "data": {
            "text/plain": [
              "3"
            ]
          },
          "execution_count": 5,
          "metadata": {},
          "output_type": "execute_result"
        }
      ],
      "source": [
        "5 - 2"
      ]
    },
    {
      "cell_type": "code",
      "execution_count": null,
      "metadata": {
        "id": "YUNr7MeKZQuH",
        "outputId": "3e0b6edd-27d0-4b05-f2d3-7caa5a8ac62c"
      },
      "outputs": [
        {
          "data": {
            "text/plain": [
              "9.0"
            ]
          },
          "execution_count": 6,
          "metadata": {},
          "output_type": "execute_result"
        }
      ],
      "source": [
        "45 / 5"
      ]
    },
    {
      "cell_type": "code",
      "execution_count": null,
      "metadata": {
        "id": "ROLXkZr0ZQuI",
        "outputId": "3df84677-5a84-4542-84c9-9379f89b5382"
      },
      "outputs": [
        {
          "data": {
            "text/plain": [
              "4"
            ]
          },
          "execution_count": 7,
          "metadata": {},
          "output_type": "execute_result"
        }
      ],
      "source": [
        "2 ** 2"
      ]
    },
    {
      "cell_type": "markdown",
      "metadata": {
        "id": "r6uKLppJZQuI"
      },
      "source": [
        "### Operações de comparação"
      ]
    },
    {
      "cell_type": "code",
      "execution_count": null,
      "metadata": {
        "id": "VEPI-HXzZQuJ",
        "outputId": "e0dbde8f-419a-49e7-b49f-283c763c4a00"
      },
      "outputs": [
        {
          "data": {
            "text/plain": [
              "False"
            ]
          },
          "execution_count": 8,
          "metadata": {},
          "output_type": "execute_result"
        }
      ],
      "source": [
        "2 > 7"
      ]
    },
    {
      "cell_type": "code",
      "execution_count": null,
      "metadata": {
        "id": "bNn2t8KgZQuK",
        "outputId": "b4daafc5-09a6-49d8-efb9-53fed5c2d0de"
      },
      "outputs": [
        {
          "data": {
            "text/plain": [
              "False"
            ]
          },
          "execution_count": 9,
          "metadata": {},
          "output_type": "execute_result"
        }
      ],
      "source": [
        "'laranja' == 'banana'"
      ]
    },
    {
      "cell_type": "code",
      "execution_count": null,
      "metadata": {
        "id": "tLwtFnV1ZQuK",
        "outputId": "38d1a674-4ada-44ce-fbaa-6424c64cc8a8"
      },
      "outputs": [
        {
          "data": {
            "text/plain": [
              "False"
            ]
          },
          "execution_count": 10,
          "metadata": {},
          "output_type": "execute_result"
        }
      ],
      "source": [
        "'laranja' == 'Laranja'"
      ]
    },
    {
      "cell_type": "code",
      "execution_count": null,
      "metadata": {
        "id": "hgvKbkDGZQuK",
        "outputId": "7443d5c2-d4e3-4635-8dd8-f8b576d1ade2"
      },
      "outputs": [
        {
          "data": {
            "text/plain": [
              "True"
            ]
          },
          "execution_count": 11,
          "metadata": {},
          "output_type": "execute_result"
        }
      ],
      "source": [
        "2 + 2 == 2 * 2 "
      ]
    },
    {
      "cell_type": "markdown",
      "metadata": {
        "id": "F-bKcH4cZQuK"
      },
      "source": [
        "### Operadores binários: =, ==, <, >, !=, <=, >=, in, not in, is, and, or, not\n",
        "\n",
        "> Indicação da [PEP 8](https://wiki.python.org.br/GuiaDeEstilo): Sempre circunde os operadores binários com um único espaço de cada lado"
      ]
    },
    {
      "cell_type": "code",
      "execution_count": null,
      "metadata": {
        "id": "-xstgMq3ZQuL",
        "outputId": "ff31a176-42f7-4d92-d6ba-5e07c14c8c01"
      },
      "outputs": [
        {
          "data": {
            "text/plain": [
              "False"
            ]
          },
          "execution_count": 12,
          "metadata": {},
          "output_type": "execute_result"
        }
      ],
      "source": [
        "'laranja' != 'laranja'"
      ]
    },
    {
      "cell_type": "code",
      "execution_count": null,
      "metadata": {
        "scrolled": true,
        "id": "NUzINC9-ZQuL",
        "outputId": "76290930-95eb-4b9f-ad0d-afa303d9ba9d"
      },
      "outputs": [
        {
          "name": "stderr",
          "output_type": "stream",
          "text": [
            "<>:1: SyntaxWarning: \"is\" with a literal. Did you mean \"==\"?\n",
            "<>:1: SyntaxWarning: \"is\" with a literal. Did you mean \"==\"?\n",
            "/tmp/ipykernel_35105/4225139519.py:1: SyntaxWarning: \"is\" with a literal. Did you mean \"==\"?\n",
            "  5 is 8\n"
          ]
        },
        {
          "data": {
            "text/plain": [
              "False"
            ]
          },
          "execution_count": 13,
          "metadata": {},
          "output_type": "execute_result"
        }
      ],
      "source": [
        "5 is 8"
      ]
    },
    {
      "cell_type": "markdown",
      "metadata": {
        "id": "L3qGbH7QZQuL"
      },
      "source": [
        "---"
      ]
    },
    {
      "cell_type": "markdown",
      "metadata": {
        "id": "-hj_ZvhDZQuL"
      },
      "source": [
        "> Uma curiosidade: [Why does Python log a SyntaxWarning for ‘is’ with literals?](https://adamj.eu/tech/2020/01/21/why-does-python-3-8-syntaxwarning-for-is-literal/)"
      ]
    },
    {
      "cell_type": "code",
      "execution_count": null,
      "metadata": {
        "id": "pNIEdR20ZQuM",
        "outputId": "3b15898a-7707-48e1-bda7-3eba0f4783d6"
      },
      "outputs": [
        {
          "data": {
            "text/plain": [
              "True"
            ]
          },
          "execution_count": 14,
          "metadata": {},
          "output_type": "execute_result"
        }
      ],
      "source": [
        "a = 'Aya'\n",
        "b = a\n",
        "c = 'Aya'\n",
        "\n",
        "a is b"
      ]
    },
    {
      "cell_type": "code",
      "execution_count": null,
      "metadata": {
        "id": "AnGhVhWTZQuM",
        "outputId": "a193650a-1e33-4d68-966b-fe08c627eb3e"
      },
      "outputs": [
        {
          "data": {
            "text/plain": [
              "True"
            ]
          },
          "execution_count": 15,
          "metadata": {},
          "output_type": "execute_result"
        }
      ],
      "source": [
        "a is c"
      ]
    },
    {
      "cell_type": "code",
      "execution_count": null,
      "metadata": {
        "id": "ob8EMlWhZQuM",
        "outputId": "6e844ec8-585c-40d0-e964-fefc70b9f340"
      },
      "outputs": [
        {
          "data": {
            "text/plain": [
              "140460040337584"
            ]
          },
          "execution_count": 16,
          "metadata": {},
          "output_type": "execute_result"
        }
      ],
      "source": [
        "id(a)"
      ]
    },
    {
      "cell_type": "code",
      "execution_count": null,
      "metadata": {
        "id": "xwbsoDO7ZQuM",
        "outputId": "3a329ced-54ee-4cd4-fe9d-b95b6afd9f53"
      },
      "outputs": [
        {
          "data": {
            "text/plain": [
              "140460040337584"
            ]
          },
          "execution_count": 17,
          "metadata": {},
          "output_type": "execute_result"
        }
      ],
      "source": [
        "id(b)"
      ]
    },
    {
      "cell_type": "code",
      "execution_count": null,
      "metadata": {
        "id": "KeDwOpuSZQuM",
        "outputId": "b966499c-89f3-4340-f422-30cc1fee0654"
      },
      "outputs": [
        {
          "data": {
            "text/plain": [
              "140460040337584"
            ]
          },
          "execution_count": 18,
          "metadata": {},
          "output_type": "execute_result"
        }
      ],
      "source": [
        "id(c)"
      ]
    },
    {
      "cell_type": "markdown",
      "metadata": {
        "id": "UbqvMOJMZQuN"
      },
      "source": [
        "> O capítulo [\"9.10. Objects and values\" do livro \"How to Think Like a Computer Scientist\"](https://www.openbookproject.net/thinkcs/python/english2e/ch09.html#index-2) também  ajuda a entender o que aconteceu acima ;]\n",
        "\n",
        "---"
      ]
    },
    {
      "cell_type": "markdown",
      "metadata": {
        "id": "nYHccymcZQuN"
      },
      "source": [
        "## Tipos básicos de dados"
      ]
    },
    {
      "cell_type": "code",
      "execution_count": null,
      "metadata": {
        "id": "K1QzOghgZQuN",
        "outputId": "20aa4757-e07b-463d-99c5-b945aee439cc"
      },
      "outputs": [
        {
          "data": {
            "text/plain": [
              "str"
            ]
          },
          "execution_count": 19,
          "metadata": {},
          "output_type": "execute_result"
        }
      ],
      "source": [
        "type(nome)"
      ]
    },
    {
      "cell_type": "code",
      "execution_count": null,
      "metadata": {
        "id": "3RhHjdPiZQuN",
        "outputId": "33cf7d5b-ddcb-435c-ec31-0730cd38c059"
      },
      "outputs": [
        {
          "data": {
            "text/plain": [
              "str"
            ]
          },
          "execution_count": 20,
          "metadata": {},
          "output_type": "execute_result"
        }
      ],
      "source": [
        "type(idade)"
      ]
    },
    {
      "cell_type": "code",
      "execution_count": null,
      "metadata": {
        "id": "r54CWZMeZQuN"
      },
      "outputs": [],
      "source": [
        "idade = 25\n",
        "\n",
        "'Olá! meu nome é ' + nome + ', tenho ' + idade + ' anos e moro em ' + cidade"
      ]
    },
    {
      "cell_type": "code",
      "execution_count": null,
      "metadata": {
        "id": "Zf4PVni2ZQuN",
        "outputId": "470c9056-ff05-4ce7-f1dc-772a71da306f"
      },
      "outputs": [
        {
          "data": {
            "text/plain": [
              "float"
            ]
          },
          "execution_count": 22,
          "metadata": {},
          "output_type": "execute_result"
        }
      ],
      "source": [
        "type(10.5)"
      ]
    },
    {
      "cell_type": "markdown",
      "metadata": {
        "id": "P9WwoX1cZQuN"
      },
      "source": [
        "**Existem outros tipos de dados?**"
      ]
    },
    {
      "cell_type": "code",
      "execution_count": null,
      "metadata": {
        "id": "dLTl3EMeZQuO",
        "outputId": "7a52ab33-ab34-4e5f-c5c4-20aeb3f2c6e9"
      },
      "outputs": [
        {
          "data": {
            "text/plain": [
              "datetime.datetime(2023, 5, 8, 17, 31, 34, 865227)"
            ]
          },
          "execution_count": 23,
          "metadata": {},
          "output_type": "execute_result"
        }
      ],
      "source": [
        "from datetime import datetime\n",
        "\n",
        "data = datetime.now()\n",
        "\n",
        "data"
      ]
    },
    {
      "cell_type": "code",
      "execution_count": null,
      "metadata": {
        "id": "IIXn4s-3ZQuO",
        "outputId": "6798d0fa-9b86-49ef-aab1-8a11f5e2e4a0"
      },
      "outputs": [
        {
          "data": {
            "text/plain": [
              "datetime.datetime"
            ]
          },
          "execution_count": 24,
          "metadata": {},
          "output_type": "execute_result"
        }
      ],
      "source": [
        "type(data)"
      ]
    },
    {
      "cell_type": "markdown",
      "metadata": {
        "id": "3orSbfD8ZQuO"
      },
      "source": [
        "## Olhando para o lado...\n",
        "\n",
        "- [Online C Compiler.](https://www.onlinegdb.com/online_c_compiler)\n",
        "\n",
        "```\n",
        "# include <stdio.h>\n",
        "\n",
        "int main(void){\n",
        "    int num;\n",
        "    num = 10;\n",
        "    \n",
        "    printf(\"O programa A imprime o n ́umero %d\\n\",num);\n",
        "    \n",
        "    return 1;\n",
        "}\n",
        "```\n",
        "\n",
        "- [Welcome to a tour of Go](https://go.dev/tour/list)\n",
        "- [Variáveis em Golang - Um tour por Go](https://go-tour-br.appspot.com/basics/8)"
      ]
    },
    {
      "cell_type": "markdown",
      "metadata": {
        "id": "_68aHktCZQuO"
      },
      "source": [
        "## DICA DO DIA\n",
        "\n",
        "### Mas e se eu quiser receber dados da usuária pra executar o meu programa?"
      ]
    },
    {
      "cell_type": "markdown",
      "metadata": {
        "id": "SKCBN2ZxZQuO"
      },
      "source": [
        "Você conhece a instrução `input()`? Execute o código abaixo pra saber como ela funciona:\n",
        "\n",
        "> ##### Dica: depois de digitar o valor desejado tecle enter"
      ]
    },
    {
      "cell_type": "code",
      "execution_count": null,
      "metadata": {
        "id": "HirUF_8pZQuO",
        "outputId": "b9f29436-5d4d-46a0-b2cb-3b0b7595ea27"
      },
      "outputs": [
        {
          "name": "stdout",
          "output_type": "stream",
          "text": [
            "Entre com o 1º valor: 7\n",
            "Entre com o 2º valor: 7\n",
            "A soma é dos valores é  14\n"
          ]
        }
      ],
      "source": [
        "num1 = input('Entre com o 1º valor: ')\n",
        "\n",
        "num2 = input('Entre com o 2º valor: ')\n",
        "\n",
        "soma = int(num1) + int(num2)\n",
        "\n",
        "print(\"A soma é dos valores é \", soma)"
      ]
    },
    {
      "cell_type": "markdown",
      "metadata": {
        "id": "1iKZ_BPFZQuP"
      },
      "source": [
        "> ##### Saiba mais sobre `input()` no tutorial [Função input e print no Python: Entrada e Saída de dados](https://pythonacademy.com.br/blog/input-e-print-entrada-e-saida-de-dados-no-python)"
      ]
    },
    {
      "cell_type": "markdown",
      "metadata": {
        "id": "nfmnkTOyZQuW"
      },
      "source": [
        "## Exercícios"
      ]
    },
    {
      "cell_type": "markdown",
      "metadata": {
        "id": "5IfojkkXZQuW"
      },
      "source": [
        "1) Em uma instrução `print()`, o que acontece se você omitir um dos parênteses ou ambos?"
      ]
    },
    {
      "cell_type": "code",
      "execution_count": null,
      "metadata": {
        "id": "haTW2olzZQuW"
      },
      "outputs": [],
      "source": []
    },
    {
      "cell_type": "markdown",
      "metadata": {
        "id": "DXd5FgOMZQuW"
      },
      "source": [
        "2) O que acontece se você tentar usar 02 + 05 no Python?"
      ]
    },
    {
      "cell_type": "code",
      "execution_count": null,
      "metadata": {
        "id": "7GzM1n6tZQuX"
      },
      "outputs": [],
      "source": []
    },
    {
      "cell_type": "markdown",
      "metadata": {
        "id": "nJp5-P7oZQuX"
      },
      "source": [
        "3. Faça um algoritmo que solicite a entrada do nome, idade e cidade e exiba a seguinte mensagem:\n",
        "\n",
        "> _'Olá! meu nome é Aya, tenho 25 anos e moro em Salvador'_"
      ]
    },
    {
      "cell_type": "code",
      "execution_count": null,
      "metadata": {
        "id": "J1uKzeknZQuX"
      },
      "outputs": [],
      "source": []
    },
    {
      "cell_type": "markdown",
      "metadata": {
        "id": "ycMHpMoyZQuX"
      },
      "source": [
        "4) Quantos segundos há em 42 minutos e 42 segundos?"
      ]
    },
    {
      "cell_type": "code",
      "execution_count": null,
      "metadata": {
        "id": "e96YYGXpZQuX"
      },
      "outputs": [],
      "source": []
    },
    {
      "cell_type": "markdown",
      "metadata": {
        "id": "YsrS84osZQuX"
      },
      "source": [
        "5) Vimos que `n = 42` é funciona. E `42 = n`?"
      ]
    },
    {
      "cell_type": "code",
      "execution_count": null,
      "metadata": {
        "id": "Ou_m0BEeZQuY"
      },
      "outputs": [],
      "source": []
    },
    {
      "cell_type": "markdown",
      "metadata": {
        "id": "jdSH9SUdZQuY"
      },
      "source": [
        "6) Qual é o resultado da expressão `x = y = 1`? Você consegue explicar o que aconteceu aqui?"
      ]
    },
    {
      "cell_type": "code",
      "execution_count": null,
      "metadata": {
        "id": "MxkT0R40ZQuY"
      },
      "outputs": [],
      "source": []
    },
    {
      "cell_type": "markdown",
      "metadata": {
        "id": "EfOPVZyiZQuY"
      },
      "source": [
        "7) O que acontece se você puser um ponto e vírgula no fim de uma instrução no Python? E um ponto?"
      ]
    },
    {
      "cell_type": "code",
      "execution_count": null,
      "metadata": {
        "id": "tmNEIr4BZQuY"
      },
      "outputs": [],
      "source": []
    },
    {
      "cell_type": "markdown",
      "metadata": {
        "id": "Mtgb0YhAZQuY"
      },
      "source": [
        "8) Em notação matemática é possível multiplicar x e y desta forma: xy. O que acontece se você tentar fazer o mesmo no Python?\n",
        "\n",
        "```python\n",
        "x = 2\n",
        "y = 8\n",
        "\n",
        "xy\n",
        "```"
      ]
    },
    {
      "cell_type": "code",
      "execution_count": null,
      "metadata": {
        "id": "FdfiJ31TZQuZ"
      },
      "outputs": [],
      "source": []
    },
    {
      "cell_type": "markdown",
      "metadata": {
        "id": "aoXOUnalZQuZ"
      },
      "source": [
        "9) O que significa a saída do código abaixo?\n",
        "\n",
        "```python\n",
        "nome = 'Curso Livre Aya'\n",
        "type(nome)\n",
        "```"
      ]
    },
    {
      "cell_type": "code",
      "execution_count": null,
      "metadata": {
        "id": "_SlqixZaZQuZ"
      },
      "outputs": [],
      "source": []
    },
    {
      "cell_type": "markdown",
      "metadata": {
        "id": "ojg0UY5pZQuZ"
      },
      "source": [
        "10) Reproduza um erro de sintaxe"
      ]
    },
    {
      "cell_type": "code",
      "execution_count": null,
      "metadata": {
        "id": "nXx3QkM6ZQuZ"
      },
      "outputs": [],
      "source": []
    },
    {
      "cell_type": "markdown",
      "metadata": {
        "id": "TfyiEADmZQuZ"
      },
      "source": [
        "11) Reproduza um erro de identação"
      ]
    },
    {
      "cell_type": "code",
      "execution_count": null,
      "metadata": {
        "id": "EV8WWuoqZQuZ"
      },
      "outputs": [],
      "source": []
    },
    {
      "cell_type": "markdown",
      "metadata": {
        "id": "wL8fFyrhZQuZ"
      },
      "source": [
        "12. Escreva um programa que calcule a soma de três variáveis e imprima o resultado na tela"
      ]
    },
    {
      "cell_type": "code",
      "execution_count": null,
      "metadata": {
        "id": "w9MmUrMGZQua"
      },
      "outputs": [],
      "source": []
    },
    {
      "cell_type": "markdown",
      "metadata": {
        "id": "nv9JM8xZZQua"
      },
      "source": [
        "13. Escreva um programa que receba três variáveis, calcule sua soma e imprima o resultado na tela"
      ]
    },
    {
      "cell_type": "code",
      "execution_count": null,
      "metadata": {
        "id": "P6806-2EZQua"
      },
      "outputs": [],
      "source": []
    },
    {
      "cell_type": "markdown",
      "metadata": {
        "id": "NaTIq5rIZQua"
      },
      "source": [
        "14. Como podemos calcular o aumento do salário de Vanessa em Python?\n",
        "\n",
        "> Vanessa ganha R$ 2.500,00 e deseja um aumento de 60% do seu salário"
      ]
    },
    {
      "cell_type": "markdown",
      "metadata": {
        "id": "xonBZqzMZQua"
      },
      "source": [
        "15. Escreva um programa que receba 2 variáveis e imprima na tela se elas são iguais ou não."
      ]
    },
    {
      "cell_type": "code",
      "execution_count": null,
      "metadata": {
        "id": "RUF28KJLZQua"
      },
      "outputs": [],
      "source": []
    },
    {
      "cell_type": "markdown",
      "metadata": {
        "id": "h0F1Q5t9ZQua"
      },
      "source": [
        "16. Escreva um programa que receba 2 variáveis e imprima na tela se a primeira variável é maior do que a segunda ou não."
      ]
    },
    {
      "cell_type": "markdown",
      "metadata": {
        "id": "swosMpUwZQua"
      },
      "source": [
        "---"
      ]
    },
    {
      "cell_type": "markdown",
      "metadata": {
        "id": "YQvuXOl0ZQub"
      },
      "source": [
        "## Quais são as outras formas de praticar esses conceitos?\n",
        "\n",
        "<img src=\"https://media.giphy.com/media/v1.Y2lkPTc5MGI3NjExODY0Yjk5YmE5YjMyZjFiOTBiNGZkMWE0Y2NjNmQ4Njg4ZjA0MDBjOCZlcD12MV9pbnRlcm5hbF9naWZzX2dpZklkJmN0PWc/26tPghhb310muUkEw/giphy.gif\" align=\"left\">"
      ]
    },
    {
      "cell_type": "markdown",
      "metadata": {
        "id": "5uYozk6hZQub"
      },
      "source": [
        "<Adicionar atividade de sua preferência para aplicação dos conceitos>"
      ]
    }
  ],
  "metadata": {
    "kernelspec": {
      "display_name": "Python 3 (ipykernel)",
      "language": "python",
      "name": "python3"
    },
    "language_info": {
      "codemirror_mode": {
        "name": "ipython",
        "version": 3
      },
      "file_extension": ".py",
      "mimetype": "text/x-python",
      "name": "python",
      "nbconvert_exporter": "python",
      "pygments_lexer": "ipython3",
      "version": "3.10.9"
    },
    "colab": {
      "provenance": [],
      "include_colab_link": true
    }
  },
  "nbformat": 4,
  "nbformat_minor": 0
}