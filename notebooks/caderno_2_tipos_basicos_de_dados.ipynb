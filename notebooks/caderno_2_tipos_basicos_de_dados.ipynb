{
  "cells": [
    {
      "cell_type": "markdown",
      "metadata": {
        "id": "view-in-github",
        "colab_type": "text"
      },
      "source": [
        "<a href=\"https://colab.research.google.com/github/Kauanelouise/curso-python/blob/main/C%C3%B3pia_de_caderno_2_tipos_basicos_de_dados.ipynb\" target=\"_parent\"><img src=\"https://colab.research.google.com/assets/colab-badge.svg\" alt=\"Open In Colab\"/></a>"
      ]
    },
    {
      "cell_type": "markdown",
      "metadata": {
        "id": "UUCSpHNvrhAf"
      },
      "source": [
        "<img src=\"https://github.com/soterolab/curso-python/blob/main/images/variaveis.png?raw=1\">"
      ]
    },
    {
      "cell_type": "markdown",
      "metadata": {
        "id": "NbE78gNtrhAg"
      },
      "source": [
        "## Variáveis"
      ]
    },
    {
      "cell_type": "code",
      "execution_count": null,
      "metadata": {
        "id": "WAt_qMusrhAg"
      },
      "outputs": [],
      "source": [
        "nome = 'Aya'\n",
        "\n",
        "idade = '25'\n",
        "\n",
        "cidade = 'Salvador'"
      ]
    },
    {
      "cell_type": "code",
      "execution_count": null,
      "metadata": {
        "id": "CCAJvOizrhAh",
        "outputId": "4f50fce4-d990-4fe7-830d-4bdc3a9e6dbd"
      },
      "outputs": [
        {
          "data": {
            "text/plain": [
              "'Olá! meu nome é Aya, tenho 25 anos e moro em Salvador'"
            ]
          },
          "execution_count": 2,
          "metadata": {},
          "output_type": "execute_result"
        }
      ],
      "source": [
        "'Olá! meu nome é ' + nome + ', tenho ' + idade + ' anos e moro em ' + cidade"
      ]
    },
    {
      "cell_type": "markdown",
      "metadata": {
        "id": "ctXl44SGrhAi"
      },
      "source": [
        "## Operações\n",
        "\n",
        "### Operações Núméricas"
      ]
    },
    {
      "cell_type": "code",
      "execution_count": null,
      "metadata": {
        "id": "fVejBy1RrhAi",
        "outputId": "3b32709f-11cc-4b7e-dcf8-f0a264aa2cca"
      },
      "outputs": [
        {
          "data": {
            "text/plain": [
              "4"
            ]
          },
          "execution_count": 3,
          "metadata": {},
          "output_type": "execute_result"
        }
      ],
      "source": [
        "2 + 2"
      ]
    },
    {
      "cell_type": "code",
      "execution_count": null,
      "metadata": {
        "id": "Etek4T1wrhAi",
        "outputId": "8c834172-9342-47c4-bd31-e9eaf7ce3050"
      },
      "outputs": [
        {
          "data": {
            "text/plain": [
              "6"
            ]
          },
          "execution_count": 4,
          "metadata": {},
          "output_type": "execute_result"
        }
      ],
      "source": [
        "2 * 3"
      ]
    },
    {
      "cell_type": "code",
      "execution_count": null,
      "metadata": {
        "id": "kEh1klA_rhAj",
        "outputId": "51cfaa42-b5d0-4c24-a020-7c1214fd46b3"
      },
      "outputs": [
        {
          "data": {
            "text/plain": [
              "3"
            ]
          },
          "execution_count": 5,
          "metadata": {},
          "output_type": "execute_result"
        }
      ],
      "source": [
        "5 - 2"
      ]
    },
    {
      "cell_type": "code",
      "execution_count": null,
      "metadata": {
        "id": "-aA1vfFerhAj",
        "outputId": "93af1519-f21f-4b00-fef5-b7925376c100"
      },
      "outputs": [
        {
          "data": {
            "text/plain": [
              "9.0"
            ]
          },
          "execution_count": 6,
          "metadata": {},
          "output_type": "execute_result"
        }
      ],
      "source": [
        "45 / 5"
      ]
    },
    {
      "cell_type": "code",
      "execution_count": null,
      "metadata": {
        "id": "_z4IZl2urhAj",
        "outputId": "f7671bdd-ecac-4bd2-82a3-62e016411e71"
      },
      "outputs": [
        {
          "data": {
            "text/plain": [
              "4"
            ]
          },
          "execution_count": 7,
          "metadata": {},
          "output_type": "execute_result"
        }
      ],
      "source": [
        "2 ** 2"
      ]
    },
    {
      "cell_type": "markdown",
      "metadata": {
        "id": "h-LAHmrcrhAj"
      },
      "source": [
        "### Operações de comparação"
      ]
    },
    {
      "cell_type": "code",
      "execution_count": null,
      "metadata": {
        "id": "hXQhhiL_rhAk",
        "outputId": "16613748-288e-4d62-c552-12951a5dea51"
      },
      "outputs": [
        {
          "data": {
            "text/plain": [
              "False"
            ]
          },
          "execution_count": 8,
          "metadata": {},
          "output_type": "execute_result"
        }
      ],
      "source": [
        "2 > 7"
      ]
    },
    {
      "cell_type": "code",
      "execution_count": null,
      "metadata": {
        "id": "G1Ms2NMqrhAk",
        "outputId": "cf099692-6e1e-4510-be55-5314ad1664a6"
      },
      "outputs": [
        {
          "data": {
            "text/plain": [
              "False"
            ]
          },
          "execution_count": 9,
          "metadata": {},
          "output_type": "execute_result"
        }
      ],
      "source": [
        "'laranja' == 'banana'"
      ]
    },
    {
      "cell_type": "code",
      "execution_count": null,
      "metadata": {
        "id": "mkI93lNErhAk",
        "outputId": "7ba1d16a-7a78-4231-a985-b146f63d1a01"
      },
      "outputs": [
        {
          "data": {
            "text/plain": [
              "False"
            ]
          },
          "execution_count": 10,
          "metadata": {},
          "output_type": "execute_result"
        }
      ],
      "source": [
        "'laranja' == 'Laranja'"
      ]
    },
    {
      "cell_type": "code",
      "execution_count": null,
      "metadata": {
        "id": "Duu55cxPrhAk",
        "outputId": "c965c1e9-3d94-4d28-ab09-3d7d073b6096"
      },
      "outputs": [
        {
          "data": {
            "text/plain": [
              "True"
            ]
          },
          "execution_count": 11,
          "metadata": {},
          "output_type": "execute_result"
        }
      ],
      "source": [
        "2 + 2 == 2 * 2 "
      ]
    },
    {
      "cell_type": "markdown",
      "metadata": {
        "id": "kSwChI_SrhAl"
      },
      "source": [
        "### Operadores binários: =, ==, <, >, !=, <=, >=, in, not in, is, and, or, not\n",
        "\n",
        "> Indicação da [PEP 8](https://wiki.python.org.br/GuiaDeEstilo): Sempre circunde os operadores binários com um único espaço de cada lado"
      ]
    },
    {
      "cell_type": "code",
      "execution_count": null,
      "metadata": {
        "id": "7DVGmpQarhAl",
        "outputId": "478c90e2-3edb-4474-d3ea-70de26068ce6"
      },
      "outputs": [
        {
          "data": {
            "text/plain": [
              "False"
            ]
          },
          "execution_count": 12,
          "metadata": {},
          "output_type": "execute_result"
        }
      ],
      "source": [
        "'laranja' != 'laranja'\n"
      ]
    },
    {
      "cell_type": "code",
      "execution_count": null,
      "metadata": {
        "scrolled": true,
        "id": "Fb-ePn0drhAl",
        "outputId": "52618dfb-999d-4a0b-d271-3a074185b5bd"
      },
      "outputs": [
        {
          "name": "stderr",
          "output_type": "stream",
          "text": [
            "<>:1: SyntaxWarning: \"is\" with a literal. Did you mean \"==\"?\n",
            "<>:1: SyntaxWarning: \"is\" with a literal. Did you mean \"==\"?\n",
            "/tmp/ipykernel_35105/4225139519.py:1: SyntaxWarning: \"is\" with a literal. Did you mean \"==\"?\n",
            "  5 is 8\n"
          ]
        },
        {
          "data": {
            "text/plain": [
              "False"
            ]
          },
          "execution_count": 13,
          "metadata": {},
          "output_type": "execute_result"
        }
      ],
      "source": [
        "5 is 8"
      ]
    },
    {
      "cell_type": "markdown",
      "metadata": {
        "id": "g9m589HzrhAl"
      },
      "source": [
        "---"
      ]
    },
    {
      "cell_type": "markdown",
      "metadata": {
        "id": "tMp4CEStrhAl"
      },
      "source": [
        "> Uma curiosidade: [Why does Python log a SyntaxWarning for ‘is’ with literals?](https://adamj.eu/tech/2020/01/21/why-does-python-3-8-syntaxwarning-for-is-literal/)"
      ]
    },
    {
      "cell_type": "code",
      "execution_count": null,
      "metadata": {
        "id": "163AURlXrhAm",
        "outputId": "6c902750-d90c-4046-bac2-b98caf45e76d"
      },
      "outputs": [
        {
          "data": {
            "text/plain": [
              "True"
            ]
          },
          "execution_count": 14,
          "metadata": {},
          "output_type": "execute_result"
        }
      ],
      "source": [
        "a = 'Aya'\n",
        "b = a\n",
        "c = 'Aya'\n",
        "\n",
        "a is b"
      ]
    },
    {
      "cell_type": "code",
      "execution_count": null,
      "metadata": {
        "id": "iLuc0ZstrhAm",
        "outputId": "e74888dd-03fc-411a-9e5b-c0f3f176e49a"
      },
      "outputs": [
        {
          "data": {
            "text/plain": [
              "True"
            ]
          },
          "execution_count": 15,
          "metadata": {},
          "output_type": "execute_result"
        }
      ],
      "source": [
        "a is c"
      ]
    },
    {
      "cell_type": "code",
      "execution_count": null,
      "metadata": {
        "id": "ph9gK251rhAm",
        "outputId": "9e128704-0a4b-4872-f1c9-309e90644b56"
      },
      "outputs": [
        {
          "data": {
            "text/plain": [
              "140460040337584"
            ]
          },
          "execution_count": 16,
          "metadata": {},
          "output_type": "execute_result"
        }
      ],
      "source": [
        "id(a)"
      ]
    },
    {
      "cell_type": "code",
      "execution_count": null,
      "metadata": {
        "id": "2bsMlegFrhAm",
        "outputId": "fdb66bcc-ffba-4d96-a969-1b9bc3d330c7"
      },
      "outputs": [
        {
          "data": {
            "text/plain": [
              "140460040337584"
            ]
          },
          "execution_count": 17,
          "metadata": {},
          "output_type": "execute_result"
        }
      ],
      "source": [
        "id(b)"
      ]
    },
    {
      "cell_type": "code",
      "execution_count": null,
      "metadata": {
        "id": "_JoyQ2mBrhAm",
        "outputId": "b55e616d-da90-4007-ce35-73c5eef76688"
      },
      "outputs": [
        {
          "data": {
            "text/plain": [
              "140460040337584"
            ]
          },
          "execution_count": 18,
          "metadata": {},
          "output_type": "execute_result"
        }
      ],
      "source": [
        "id(c)"
      ]
    },
    {
      "cell_type": "markdown",
      "metadata": {
        "id": "hD5T0q-irhAn"
      },
      "source": [
        "> O capítulo [\"9.10. Objects and values\" do livro \"How to Think Like a Computer Scientist\"](https://www.openbookproject.net/thinkcs/python/english2e/ch09.html#index-2) também  ajuda a entender o que aconteceu acima ;]\n",
        "\n",
        "---"
      ]
    },
    {
      "cell_type": "markdown",
      "metadata": {
        "id": "6_gdfD6UrhAn"
      },
      "source": [
        "## Tipos básicos de dados"
      ]
    },
    {
      "cell_type": "code",
      "execution_count": null,
      "metadata": {
        "id": "uG-IvXRCrhAn",
        "outputId": "1b53f509-c4ed-4113-e297-22c8306656cd"
      },
      "outputs": [
        {
          "data": {
            "text/plain": [
              "str"
            ]
          },
          "execution_count": 19,
          "metadata": {},
          "output_type": "execute_result"
        }
      ],
      "source": [
        "type(nome)"
      ]
    },
    {
      "cell_type": "code",
      "execution_count": null,
      "metadata": {
        "id": "o3zj9w5crhAn",
        "outputId": "6065ca32-e8b9-4366-db3b-47ef8d27223a"
      },
      "outputs": [
        {
          "data": {
            "text/plain": [
              "str"
            ]
          },
          "execution_count": 20,
          "metadata": {},
          "output_type": "execute_result"
        }
      ],
      "source": [
        "type(idade)"
      ]
    },
    {
      "cell_type": "code",
      "execution_count": null,
      "metadata": {
        "id": "laKRixI8rhAn"
      },
      "outputs": [],
      "source": [
        "idade = 25\n",
        "\n",
        "'Olá! meu nome é ' + nome + ', tenho ' + idade + ' anos e moro em ' + cidade"
      ]
    },
    {
      "cell_type": "code",
      "execution_count": null,
      "metadata": {
        "id": "UBfqjAaMrhAn",
        "outputId": "68a22edf-74b1-4dde-9177-02d90f666c1f"
      },
      "outputs": [
        {
          "data": {
            "text/plain": [
              "float"
            ]
          },
          "execution_count": 22,
          "metadata": {},
          "output_type": "execute_result"
        }
      ],
      "source": [
        "type(10.5)"
      ]
    },
    {
      "cell_type": "markdown",
      "metadata": {
        "id": "aqyCQlZPrhAo"
      },
      "source": [
        "**Existem outros tipos de dados?**"
      ]
    },
    {
      "cell_type": "code",
      "execution_count": null,
      "metadata": {
        "id": "39BeBmrGrhAo",
        "outputId": "4642c1e4-aa12-4a3b-f884-ac796dec5aa9"
      },
      "outputs": [
        {
          "data": {
            "text/plain": [
              "datetime.datetime(2023, 5, 8, 17, 31, 34, 865227)"
            ]
          },
          "execution_count": 23,
          "metadata": {},
          "output_type": "execute_result"
        }
      ],
      "source": [
        "from datetime import datetime\n",
        "\n",
        "data = datetime.now()\n",
        "\n",
        "data"
      ]
    },
    {
      "cell_type": "code",
      "execution_count": null,
      "metadata": {
        "id": "60JAPRWQrhAo",
        "outputId": "f5fc26d5-b2a7-46b5-f2cc-a75493c08337"
      },
      "outputs": [
        {
          "data": {
            "text/plain": [
              "datetime.datetime"
            ]
          },
          "execution_count": 24,
          "metadata": {},
          "output_type": "execute_result"
        }
      ],
      "source": [
        "type(data)"
      ]
    },
    {
      "cell_type": "markdown",
      "metadata": {
        "id": "Sm-nS_b8rhAo"
      },
      "source": [
        "## Olhando para o lado...\n",
        "\n",
        "- [Online C Compiler.](https://www.onlinegdb.com/online_c_compiler)\n",
        "\n",
        "```\n",
        "# include <stdio.h>\n",
        "\n",
        "int main(void){\n",
        "    int num;\n",
        "    num = 10;\n",
        "    \n",
        "    printf(\"O programa A imprime o n ́umero %d\\n\",num);\n",
        "    \n",
        "    return 1;\n",
        "}\n",
        "```\n",
        "\n",
        "- [Welcome to a tour of Go](https://go.dev/tour/list)\n",
        "- [Variáveis em Golang - Um tour por Go](https://go-tour-br.appspot.com/basics/8)"
      ]
    },
    {
      "cell_type": "markdown",
      "metadata": {
        "id": "mmAT9ESKrhAo"
      },
      "source": [
        "## DICA DO DIA\n",
        "\n",
        "### Mas e se eu quiser receber dados da usuária pra executar o meu programa?"
      ]
    },
    {
      "cell_type": "markdown",
      "metadata": {
        "id": "bnyV9p61rhAo"
      },
      "source": [
        "Você conhece a instrução `input()`? Execute o código abaixo pra saber como ela funciona:\n",
        "\n",
        "> ##### Dica: depois de digitar o valor desejado tecle enter"
      ]
    },
    {
      "cell_type": "code",
      "execution_count": null,
      "metadata": {
        "id": "24VuueUZrhAp"
      },
      "outputs": [],
      "source": [
        "num1 = input('Entre com o 1º valor: ')\n",
        "\n",
        "num2 = input('Entre com o 2º valor: ')\n",
        "\n",
        "soma = int(num1) + int(num2)\n",
        "\n",
        "print(\"A soma é dos valores é \", soma)"
      ]
    },
    {
      "cell_type": "markdown",
      "metadata": {
        "id": "ozhipopErhAp"
      },
      "source": [
        "> ##### Saiba mais sobre `input()` no tutorial [Função input e print no Python: Entrada e Saída de dados](https://pythonacademy.com.br/blog/input-e-print-entrada-e-saida-de-dados-no-python)"
      ]
    },
    {
      "cell_type": "markdown",
      "metadata": {
        "id": "ZCOzW2KgrhAx"
      },
      "source": [
        "## Exercícios"
      ]
    },
    {
      "cell_type": "markdown",
      "metadata": {
        "id": "im1z6DyRrhAx"
      },
      "source": [
        "1) Em uma instrução `print()`, o que acontece se você omitir um dos parênteses ou ambos?"
      ]
    },
    {
      "cell_type": "code",
      "execution_count": null,
      "metadata": {
        "id": "179tRqUVrhAx"
      },
      "outputs": [],
      "source": [
        "print"
      ]
    },
    {
      "cell_type": "markdown",
      "metadata": {
        "id": "_lQxvvIhrhAx"
      },
      "source": [
        "2) O que acontece se você tentar usar 02 + 05 no Python?"
      ]
    },
    {
      "cell_type": "code",
      "execution_count": null,
      "metadata": {
        "id": "linJGORxrhAx"
      },
      "outputs": [],
      "source": []
    },
    {
      "cell_type": "markdown",
      "metadata": {
        "id": "HDmrnhfUrhAx"
      },
      "source": [
        "3. Faça um algoritmo que solicite a entrada do nome, idade e cidade e exiba a seguinte mensagem:\n",
        "\n",
        "> _'Olá! meu nome é Aya, tenho 25 anos e moro em Salvador'_"
      ]
    },
    {
      "cell_type": "markdown",
      "metadata": {
        "id": "5VdGrSulrhAy"
      },
      "source": [
        "4) Quantos segundos há em 42 minutos e 42 segundos?"
      ]
    },
    {
      "cell_type": "code",
      "execution_count": null,
      "metadata": {
        "id": "7MiZsw06rhAy"
      },
      "outputs": [],
      "source": []
    },
    {
      "cell_type": "markdown",
      "metadata": {
        "id": "2AQa-P_trhAy"
      },
      "source": [
        "5) Vimos que `n = 42` é funciona. E `42 = n`?"
      ]
    },
    {
      "cell_type": "code",
      "execution_count": null,
      "metadata": {
        "id": "b-QuuPCDrhAy"
      },
      "outputs": [],
      "source": []
    },
    {
      "cell_type": "markdown",
      "metadata": {
        "id": "yjCJ3C0XrhAy"
      },
      "source": [
        "6) Qual é o resultado da expressão `x = y = 1`? Você consegue explicar o que aconteceu aqui?"
      ]
    },
    {
      "cell_type": "code",
      "execution_count": null,
      "metadata": {
        "id": "VGdC86_prhAy"
      },
      "outputs": [],
      "source": []
    },
    {
      "cell_type": "markdown",
      "metadata": {
        "id": "ITlouLX4rhAy"
      },
      "source": [
        "7) O que acontece se você puser um ponto e vírgula no fim de uma instrução no Python? E um ponto?"
      ]
    },
    {
      "cell_type": "code",
      "execution_count": null,
      "metadata": {
        "id": "1eaA7x8urhAz"
      },
      "outputs": [],
      "source": []
    },
    {
      "cell_type": "markdown",
      "metadata": {
        "id": "m-LpfZatrhAz"
      },
      "source": [
        "8) Em notação matemática é possível multiplicar x e y desta forma: xy. O que acontece se você tentar fazer o mesmo no Python?\n",
        "\n",
        "```python\n",
        "x = 2\n",
        "y = 8\n",
        "\n",
        "xy\n",
        "```"
      ]
    },
    {
      "cell_type": "code",
      "execution_count": null,
      "metadata": {
        "id": "nRxdJ8qLrhAz"
      },
      "outputs": [],
      "source": []
    },
    {
      "cell_type": "markdown",
      "metadata": {
        "id": "7N6GUw0wrhAz"
      },
      "source": [
        "9) O que significa a saída do código abaixo?\n",
        "\n",
        "```python\n",
        "nome = 'Curso Livre Aya'\n",
        "type(nome)\n",
        "```"
      ]
    },
    {
      "cell_type": "code",
      "execution_count": null,
      "metadata": {
        "id": "T9kCpGtqrhAz"
      },
      "outputs": [],
      "source": []
    },
    {
      "cell_type": "markdown",
      "metadata": {
        "id": "MC6vsNj8rhAz"
      },
      "source": [
        "10) Reproduza um erro de sintaxe"
      ]
    },
    {
      "cell_type": "code",
      "execution_count": null,
      "metadata": {
        "id": "WQqW9iWcrhAz"
      },
      "outputs": [],
      "source": []
    },
    {
      "cell_type": "markdown",
      "metadata": {
        "id": "09eBT5H8rhAz"
      },
      "source": [
        "11) Reproduza um erro de identação"
      ]
    },
    {
      "cell_type": "code",
      "execution_count": null,
      "metadata": {
        "id": "bIe-JxL7rhA0"
      },
      "outputs": [],
      "source": []
    },
    {
      "cell_type": "markdown",
      "metadata": {
        "id": "PdbcAvzfrhA0"
      },
      "source": [
        "12. Escreva um programa que calcule a soma de três variáveis e imprima o resultado na tela"
      ]
    },
    {
      "cell_type": "code",
      "execution_count": null,
      "metadata": {
        "id": "0B_3TBCVrhA0"
      },
      "outputs": [],
      "source": []
    },
    {
      "cell_type": "markdown",
      "metadata": {
        "id": "SwMD3o4GrhA0"
      },
      "source": [
        "13. Escreva um programa que receba três variáveis, calcule sua soma e imprima o resultado na tela"
      ]
    },
    {
      "cell_type": "code",
      "execution_count": null,
      "metadata": {
        "id": "UwPkJO4urhA0"
      },
      "outputs": [],
      "source": []
    },
    {
      "cell_type": "markdown",
      "metadata": {
        "id": "DxdKzNgXrhA0"
      },
      "source": [
        "14. Como podemos calcular o aumento do salário de Vanessa em Python?\n",
        "\n",
        "> Vanessa ganha R$ 2.500,00 e deseja um aumento de 60% do seu salário"
      ]
    },
    {
      "cell_type": "markdown",
      "metadata": {
        "id": "HyaAvwT4rhA1"
      },
      "source": [
        "15. Escreva um programa que receba 2 variáveis e imprima na tela se elas são iguais ou não."
      ]
    },
    {
      "cell_type": "code",
      "execution_count": null,
      "metadata": {
        "id": "VhPO8ToLrhA1"
      },
      "outputs": [],
      "source": []
    },
    {
      "cell_type": "markdown",
      "metadata": {
        "id": "ctfwUSPqrhA1"
      },
      "source": [
        "16. Escreva um programa que receba 2 variáveis e imprima na tela se a primeira variável é maior do que a segunda ou não."
      ]
    },
    {
      "cell_type": "markdown",
      "metadata": {
        "id": "nVsU8sdPrhA1"
      },
      "source": [
        "---"
      ]
    },
    {
      "cell_type": "markdown",
      "metadata": {
        "id": "8g5HLFlWrhA1"
      },
      "source": [
        "## Quais são as outras formas de praticar esses conceitos?\n",
        "\n",
        "<img src=\"https://media.giphy.com/media/v1.Y2lkPTc5MGI3NjExODY0Yjk5YmE5YjMyZjFiOTBiNGZkMWE0Y2NjNmQ4Njg4ZjA0MDBjOCZlcD12MV9pbnRlcm5hbF9naWZzX2dpZklkJmN0PWc/26tPghhb310muUkEw/giphy.gif\" align=\"left\">"
      ]
    },
    {
      "cell_type": "markdown",
      "metadata": {
        "id": "3ErbIpRlrhA1"
      },
      "source": [
        "<Adicionar atividade de sua preferência para aplicação dos conceitos>"
      ]
    }
  ],
  "metadata": {
    "kernelspec": {
      "display_name": "Python 3 (ipykernel)",
      "language": "python",
      "name": "python3"
    },
    "language_info": {
      "codemirror_mode": {
        "name": "ipython",
        "version": 3
      },
      "file_extension": ".py",
      "mimetype": "text/x-python",
      "name": "python",
      "nbconvert_exporter": "python",
      "pygments_lexer": "ipython3",
      "version": "3.10.9"
    },
    "colab": {
      "provenance": [],
      "include_colab_link": true
    }
  },
  "nbformat": 4,
  "nbformat_minor": 0
}